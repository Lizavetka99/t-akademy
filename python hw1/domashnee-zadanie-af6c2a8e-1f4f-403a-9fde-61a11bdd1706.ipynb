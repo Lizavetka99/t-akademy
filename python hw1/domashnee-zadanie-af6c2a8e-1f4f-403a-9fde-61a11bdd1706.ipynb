{
 "cells": [
  {
   "cell_type": "markdown",
   "metadata": {},
   "source": [
    "### Работа с непосредственными данными в датасете"
   ]
  },
  {
   "cell_type": "code",
   "execution_count": null,
   "metadata": {
    "id": "uRW9KLfO8Xjl"
   },
   "outputs": [],
   "source": [
    "import pandas as pd"
   ]
  },
  {
   "cell_type": "markdown",
   "metadata": {
    "id": "Z5qosiVj0iNI"
   },
   "source": [
    "### Задание 1. Импорт данных\n",
    "\n",
    "Импортируй файл *«Витрина на очистку.xlsx»* и в качестве индекса установи поле *id_client_loc*."
   ]
  },
  {
   "cell_type": "code",
   "execution_count": null,
   "metadata": {
    "id": "7_Yk2ja9-L3Z"
   },
   "outputs": [],
   "source": [
    "### Решение тут\n"
   ]
  },
  {
   "cell_type": "markdown",
   "metadata": {
    "id": "3-g6nCPIBrEH"
   },
   "source": [
    "### Задание 2. Работа с email\n",
    "\n",
    "Создай колонку, в которой будет храниться никнейм имейл-адреса, то есть всё, что левее символа @.\n",
    "\n",
    "**Подсказка: воспользуйся методом *split*.**"
   ]
  },
  {
   "cell_type": "code",
   "execution_count": null,
   "metadata": {
    "id": "CZiKS7U1-VRA"
   },
   "outputs": [],
   "source": [
    "### Решение тут\n"
   ]
  },
  {
   "cell_type": "markdown",
   "metadata": {
    "id": "crTQUY7rCXji"
   },
   "source": [
    "### Задание 3. Пользователи gmail\n",
    "\n",
    "Создай колонку, в которой будет проставляться True, если домен пользователя — gmail, и False — в противном случае.\n",
    "\n",
    "**Подсказка: воспользуйся методом *contains(pattern)*.**"
   ]
  },
  {
   "cell_type": "code",
   "execution_count": null,
   "metadata": {
    "id": "tPSpY61ACAwM"
   },
   "outputs": [],
   "source": [
    "### Решение тут\n"
   ]
  },
  {
   "cell_type": "markdown",
   "metadata": {
    "id": "UVzw2hthMgsp"
   },
   "source": [
    "### Задача 4. Работа с ФИО\n",
    "\n",
    "Создай три дополнительные колонки в датафрейме, которые будут содержать фамилию, имя и отчество.\n",
    "\n",
    "Если что-то начинается не с заглавной буквы, переведи первую букву в верхний регистр.\n",
    "\n",
    "**Подсказка:**\n",
    "\n",
    " 1. Изучи метод **strip** и воспользуйся им для удаления лишних пробелов в начале и конце строк. [Ссылка на описание](https://ru.hexlet.io/qna/python/questions/chto-delaet-funktsiya-strip-v-python).\n",
    " 2. Убедись, что никакие символы, кроме пробелов, не используются для разделения фамилии, имени и отчества. Если используются, то замени их на пробелы.\n",
    " 3. Воспользуйся методом **split** для разбиения по разделителю и запиши получившиеся части соответственно в три колонки.\n",
    " 4. Поменяй регистр первых букв. Для этого можно воспользоваться методом **upper**."
   ]
  },
  {
   "cell_type": "code",
   "execution_count": 2,
   "metadata": {
    "id": "E1G8jkcrDKZK"
   },
   "outputs": [],
   "source": [
    "### Решение тут\n"
   ]
  },
  {
   "cell_type": "markdown",
   "id": "98159bbb-0d9c-4b44-929d-5e582c0e7f3b",
   "metadata": {
    "id": "98159bbb-0d9c-4b44-929d-5e582c0e7f3b"
   },
   "source": [
    "# Соединения и группировки.\n",
    "\n",
    "Ты работаешь аналитиком в компании Shop el Muchos (в магазине одежды с офлайн-точками продажи).\n",
    "\n",
    "У тебя есть две таблицы: *таблица заказов* и *таблица клиентов*.\n",
    "\n",
    "**Описание таблицы заказов**\n",
    "- *id_purchase* — уникальный идентификатор покупки.\n",
    "- *id_client* — уникальный идентификатор клиента.\n",
    "- *sum_pay* — сумма оплаты.\n",
    "- *id_trading_point* — уникальный идентификатор торговой точки (офлайн-магазина).\n",
    "- *date_pay* — дата + время покупки.\n",
    "\n",
    "**Описание таблицы клиентов**\n",
    "- *id_client* — уникальный идентификатор клиента.\n",
    "- *gender* — пол клиента.\n",
    "- *age* — возраст клиента (на сегодняшний день)."
   ]
  },
  {
   "cell_type": "markdown",
   "id": "98cc2eb1-9183-4594-a323-51acc2dec697",
   "metadata": {
    "id": "98cc2eb1-9183-4594-a323-51acc2dec697"
   },
   "source": [
    "### Импорт данных"
   ]
  },
  {
   "cell_type": "code",
   "execution_count": null,
   "id": "38779858-5738-4f70-a197-463fd9a22979",
   "metadata": {
    "id": "38779858-5738-4f70-a197-463fd9a22979"
   },
   "outputs": [],
   "source": [
    "# your code here\n",
    "\n",
    "df_orders =\n",
    "df_clients ="
   ]
  },
  {
   "cell_type": "code",
   "execution_count": null,
   "id": "cfd08e9d-a9c7-4861-a6e5-8f4e15e3a005",
   "metadata": {
    "id": "cfd08e9d-a9c7-4861-a6e5-8f4e15e3a005"
   },
   "outputs": [],
   "source": [
    "df_orders.head(3)"
   ]
  },
  {
   "cell_type": "code",
   "execution_count": null,
   "id": "5509ae37-6900-4dba-a4e9-f46892d61374",
   "metadata": {
    "id": "5509ae37-6900-4dba-a4e9-f46892d61374"
   },
   "outputs": [],
   "source": [
    "df_clients.head(3)"
   ]
  },
  {
   "cell_type": "code",
   "execution_count": null,
   "id": "76849494-577b-4d69-963b-10de4ec7f1a5",
   "metadata": {
    "id": "76849494-577b-4d69-963b-10de4ec7f1a5"
   },
   "outputs": [],
   "source": [
    "print(df_orders['date_pay'].min())\n",
    "print(df_orders['date_pay'].max())"
   ]
  },
  {
   "cell_type": "markdown",
   "id": "42ab9d27-a2c3-4b5c-b630-3760d5384150",
   "metadata": {
    "id": "42ab9d27-a2c3-4b5c-b630-3760d5384150"
   },
   "source": [
    "### Задание 1\n",
    "\n",
    "Правда ли, что:\n",
    "\n",
    " - Поле *id_purchase* является *primary key* в таблице **orders**? (Проверь уникальность значений, а также наличие нуллов в колонке *id_purchase* в таблице **orders**).\n",
    " - Поле *id_client* является *primary key* в таблице **clients**?  (Проверь уникальность значений, а также наличие нуллов в колонке *id_client* в таблице **clients** ).\n",
    " - В таблице **orders** в полях *id_client*, *sum_pay*, *id_trading_point*, *date_pay* нет пропусков (нуллов)?\n",
    " - В таблице **clients** в полях *gender* и *age* нет пропусков (нуллов)?\n",
    "\n",
    "Результаты выведи с помощью интерпретируемых (легко читаемых) принтов."
   ]
  },
  {
   "cell_type": "code",
   "execution_count": null,
   "id": "424020e0-f7c4-4817-a4bf-20ce02717b12",
   "metadata": {
    "id": "424020e0-f7c4-4817-a4bf-20ce02717b12"
   },
   "outputs": [],
   "source": [
    "# your code here"
   ]
  },
  {
   "cell_type": "markdown",
   "id": "9c164719-6a50-4760-938e-c839be81d929",
   "metadata": {
    "id": "9c164719-6a50-4760-938e-c839be81d929"
   },
   "source": [
    "### Задание 2\n",
    "\n",
    "Построй в табличной форме динамику трёх показателей по дням:\n",
    "\n",
    " - количества заказов,\n",
    " - суммарной выручки,\n",
    " - среднего чека.\n",
    "\n",
    "Выведи три дня, в которые суммарные оплаты были больше всего.\n",
    "\n",
    "**Рекомендация**\n",
    "\n",
    "*Создай отдельный столбец, в котором время заказа приведено к формату даты.*"
   ]
  },
  {
   "cell_type": "code",
   "execution_count": null,
   "id": "bd4b8492-4af4-4021-9166-90d32698df1f",
   "metadata": {
    "id": "bd4b8492-4af4-4021-9166-90d32698df1f"
   },
   "outputs": [],
   "source": [
    "# your code here"
   ]
  },
  {
   "cell_type": "markdown",
   "id": "bd2de0c0-2eb9-47c1-a064-d7505a160ce0",
   "metadata": {
    "id": "bd2de0c0-2eb9-47c1-a064-d7505a160ce0"
   },
   "source": [
    "### Задание 3\n",
    "\n",
    "Изучи соответствие между таблицами *clients* и *orders*:\n",
    " - Есть ли клиенты, которые присутствуют в *clients*, но отсутствуют в *orders*? Если да, запиши их в список.\n",
    " - Есть ли клиенты, которые присутствуют в *orders*, но отсутствуют в *clients*? Если да, запиши их в ещё один список.\n",
    " - Выведи с помощью команды *print* длины этих двух списков.\n",
    "\n",
    "В случае наличия таких различий при дальнейшем соединении таблиц будем брать *INNER JOIN* с целью избавиться от клиентов с несоответствием."
   ]
  },
  {
   "cell_type": "code",
   "execution_count": null,
   "id": "914a725c-b62c-4f4f-a388-dbe3f8b20e9a",
   "metadata": {
    "id": "914a725c-b62c-4f4f-a388-dbe3f8b20e9a"
   },
   "outputs": [],
   "source": [
    "# your code here"
   ]
  },
  {
   "cell_type": "markdown",
   "id": "6867af58-49ad-4d14-a33e-8c42808f71d6",
   "metadata": {
    "id": "6867af58-49ad-4d14-a33e-8c42808f71d6"
   },
   "source": [
    "### Задание 4\n",
    "\n",
    "Правда ли, что средний чек по женщинам в возрасте от 20 до 30 лет выше среднего чека по мужчинам в этой же возрастной категории?\n",
    "\n",
    "В ответе выведи, на сколько рублей (0 знаков после запятой) и на сколько процентов (1 знак после запятой) женский чек выше мужского."
   ]
  },
  {
   "cell_type": "code",
   "execution_count": null,
   "id": "2832d667-ff95-418b-ab08-722d082f1bd7",
   "metadata": {
    "id": "2832d667-ff95-418b-ab08-722d082f1bd7"
   },
   "outputs": [],
   "source": [
    "# your code here"
   ]
  },
  {
   "cell_type": "markdown",
   "id": "b2b61181-1a26-437d-87fc-5a019602cf07",
   "metadata": {
    "id": "b2b61181-1a26-437d-87fc-5a019602cf07"
   },
   "source": [
    "### Задание 5\n",
    "\n",
    "Правда ли, что чем больше возраст, тем больше чек?\n",
    "\n",
    "Для ответа на вопрос необходимо разбить показатель возраста на интервалы и оценить средний чек в рамках каждого интервала. Попробуй также уловить данную зависимость в рамках каждого пола."
   ]
  },
  {
   "cell_type": "code",
   "execution_count": null,
   "id": "5ebcdebc-36d3-4afc-8071-6a37ae7ecfc4",
   "metadata": {
    "id": "5ebcdebc-36d3-4afc-8071-6a37ae7ecfc4"
   },
   "outputs": [],
   "source": [
    "# your code here"
   ]
  },
  {
   "cell_type": "markdown",
   "id": "46fe7a51-0159-4ce4-86a0-18f99e753506",
   "metadata": {
    "id": "46fe7a51-0159-4ce4-86a0-18f99e753506"
   },
   "source": [
    "### Задание 6\n",
    "\n",
    "Предположим, что стоимость обработки одной операции в торговой точке (с учётом костов на аренду, продавца и так далее) составляет $250$ рублей.\n",
    "\n",
    "Для каждой торговой точки рассчитай:\n",
    " - количество операций;\n",
    " - суммарную выручку;\n",
    " - чистую валовую прибыль;\n",
    " - валовый средний чек (из расчёта на одну операцию);\n",
    " - чистый средний чек (то есть валовый средний чек из расчёта на одну операцию за вычетом костов);\n",
    " - уникальное количество покупающих клиентов;\n",
    " - валовый средний чек из расчёта на одного клиента."
   ]
  },
  {
   "cell_type": "code",
   "execution_count": null,
   "metadata": {},
   "outputs": [],
   "source": []
  }
 ],
 "metadata": {
  "colab": {
   "provenance": [],
   "toc_visible": true
  },
  "kernelspec": {
   "display_name": "Python 3 (ipykernel)",
   "language": "python",
   "name": "python3"
  },
  "language_info": {
   "codemirror_mode": {
    "name": "ipython",
    "version": 3
   },
   "file_extension": ".py",
   "mimetype": "text/x-python",
   "name": "python",
   "nbconvert_exporter": "python",
   "pygments_lexer": "ipython3",
   "version": "3.9.13"
  }
 },
 "nbformat": 4,
 "nbformat_minor": 1
}
